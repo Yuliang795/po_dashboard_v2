{
 "cells": [
  {
   "cell_type": "code",
   "execution_count": 2,
   "id": "16dcba56",
   "metadata": {},
   "outputs": [
    {
     "data": {
      "application/vnd.jupyter.widget-view+json": {
       "model_id": "e2a02fd645e54a9bb086bb8e460893d8",
       "version_major": 2,
       "version_minor": 0
      },
      "text/plain": [
       "Dropdown(description='Select Category', options=('A', 'B', 'C'), value='A')"
      ]
     },
     "metadata": {},
     "output_type": "display_data"
    }
   ],
   "source": [
    "import pandas as pd\n",
    "import matplotlib.pyplot as plt\n",
    "import ipywidgets as widgets\n",
    "from IPython.display import display\n",
    "\n",
    "# Sample DataFrame\n",
    "data = {\n",
    "    'Category': ['A', 'A', 'B', 'B', 'B', 'C', 'C'],\n",
    "    'Value': [1, 2, 3, 4, 5, 6, 7]\n",
    "}\n",
    "df = pd.DataFrame(data)\n",
    "\n",
    "# Create a button widget to select category\n",
    "category_dropdown = widgets.Dropdown(options=df['Category'].unique(), description='Select Category')\n",
    "\n",
    "# Create a scatter plot function\n",
    "def plot_scatter(category):\n",
    "    plt.figure(figsize=(6, 4))\n",
    "    df_category = df[df['Category'] == category]\n",
    "    plt.scatter(df_category.index, df_category['Value'])\n",
    "    plt.xlabel('Index')\n",
    "    plt.ylabel('Value')\n",
    "    plt.title(f'Scatter Plot for Category {category}')\n",
    "    plt.show()\n",
    "\n",
    "# Define a callback function for the button widget\n",
    "def on_button_clicked(change):\n",
    "    category = change.new\n",
    "    plot_scatter(category)\n",
    "\n",
    "# Assign the callback function to the button widget\n",
    "category_dropdown.observe(on_button_clicked, names='value')\n",
    "\n",
    "# Display the button widget\n",
    "display(category_dropdown)\n"
   ]
  }
 ],
 "metadata": {
  "kernelspec": {
   "display_name": "Python 3 (ipykernel)",
   "language": "python",
   "name": "python3"
  },
  "language_info": {
   "codemirror_mode": {
    "name": "ipython",
    "version": 3
   },
   "file_extension": ".py",
   "mimetype": "text/x-python",
   "name": "python",
   "nbconvert_exporter": "python",
   "pygments_lexer": "ipython3",
   "version": "3.10.11"
  }
 },
 "nbformat": 4,
 "nbformat_minor": 5
}
